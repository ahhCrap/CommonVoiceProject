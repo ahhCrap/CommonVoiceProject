{
  "nbformat": 4,
  "nbformat_minor": 0,
  "metadata": {
    "colab": {
      "name": "MP3toWAV.ipynb",
      "provenance": [],
      "authorship_tag": "ABX9TyPn/OdfjMepS+upQSVBAeq7",
      "include_colab_link": true
    },
    "kernelspec": {
      "name": "python3",
      "display_name": "Python 3"
    }
  },
  "cells": [
    {
      "cell_type": "markdown",
      "metadata": {
        "id": "view-in-github",
        "colab_type": "text"
      },
      "source": [
        "<a href=\"https://colab.research.google.com/github/ahhCrap/CommonVoiceProject/blob/master/MP3toWAV.ipynb\" target=\"_parent\"><img src=\"https://colab.research.google.com/assets/colab-badge.svg\" alt=\"Open In Colab\"/></a>"
      ]
    },
    {
      "cell_type": "code",
      "metadata": {
        "id": "8jyJAuGAdWtp",
        "colab_type": "code",
        "colab": {
          "base_uri": "https://localhost:8080/",
          "height": 122
        },
        "outputId": "f49bcf12-600e-4d2c-f835-75d84e870e78"
      },
      "source": [
        "from google.colab import drive\n",
        "drive.mount('/content/gdrive')"
      ],
      "execution_count": 2,
      "outputs": [
        {
          "output_type": "stream",
          "text": [
            "Go to this URL in a browser: https://accounts.google.com/o/oauth2/auth?client_id=947318989803-6bn6qk8qdgf4n4g3pfee6491hc0brc4i.apps.googleusercontent.com&redirect_uri=urn%3aietf%3awg%3aoauth%3a2.0%3aoob&response_type=code&scope=email%20https%3a%2f%2fwww.googleapis.com%2fauth%2fdocs.test%20https%3a%2f%2fwww.googleapis.com%2fauth%2fdrive%20https%3a%2f%2fwww.googleapis.com%2fauth%2fdrive.photos.readonly%20https%3a%2f%2fwww.googleapis.com%2fauth%2fpeopleapi.readonly\n",
            "\n",
            "Enter your authorization code:\n",
            "··········\n",
            "Mounted at /content/gdrive\n"
          ],
          "name": "stdout"
        }
      ]
    },
    {
      "cell_type": "code",
      "metadata": {
        "id": "739mt70he8nv",
        "colab_type": "code",
        "colab": {
          "base_uri": "https://localhost:8080/",
          "height": 85
        },
        "outputId": "617d25f8-283d-4e00-c33e-b2e2db518160"
      },
      "source": [
        "!pip install pydub\n",
        "import os\n",
        "from os import path\n",
        "from pydub import AudioSegment"
      ],
      "execution_count": 3,
      "outputs": [
        {
          "output_type": "stream",
          "text": [
            "Collecting pydub\n",
            "  Downloading https://files.pythonhosted.org/packages/7b/d1/fbfa79371a8cd9bb15c2e3c480d7e6e340ed5cc55005174e16f48418333a/pydub-0.24.1-py2.py3-none-any.whl\n",
            "Installing collected packages: pydub\n",
            "Successfully installed pydub-0.24.1\n"
          ],
          "name": "stdout"
        }
      ]
    },
    {
      "cell_type": "code",
      "metadata": {
        "id": "PSHPxcUK3RoX",
        "colab_type": "code",
        "colab": {}
      },
      "source": [
        "path = '/content/gdrive/My Drive/Portfolio/references_for_portfolio/WORK/##/Common_Voice/extracted'\n",
        "clips_path = path + '/clips'\n",
        "mp3 = 'common_voice_it_20045040.mp3'"
      ],
      "execution_count": 4,
      "outputs": []
    },
    {
      "cell_type": "code",
      "metadata": {
        "id": "ifFbdpHcOiik",
        "colab_type": "code",
        "colab": {
          "base_uri": "https://localhost:8080/",
          "height": 163
        },
        "outputId": "475d9cd6-6cb1-4046-f583-1a58c66570ba"
      },
      "source": [
        "os.mkdir(path + '/wav_train')"
      ],
      "execution_count": 5,
      "outputs": [
        {
          "output_type": "error",
          "ename": "FileExistsError",
          "evalue": "ignored",
          "traceback": [
            "\u001b[0;31m---------------------------------------------------------------------------\u001b[0m",
            "\u001b[0;31mFileExistsError\u001b[0m                           Traceback (most recent call last)",
            "\u001b[0;32m<ipython-input-5-f17cc731648d>\u001b[0m in \u001b[0;36m<module>\u001b[0;34m()\u001b[0m\n\u001b[0;32m----> 1\u001b[0;31m \u001b[0mos\u001b[0m\u001b[0;34m.\u001b[0m\u001b[0mmkdir\u001b[0m\u001b[0;34m(\u001b[0m\u001b[0mpath\u001b[0m \u001b[0;34m+\u001b[0m \u001b[0;34m'/wav_train'\u001b[0m\u001b[0;34m)\u001b[0m\u001b[0;34m\u001b[0m\u001b[0;34m\u001b[0m\u001b[0m\n\u001b[0m",
            "\u001b[0;31mFileExistsError\u001b[0m: [Errno 17] File exists: '/content/gdrive/My Drive/Portfolio/references_for_portfolio/WORK/##/Common_Voice/extracted/wav_train'"
          ]
        }
      ]
    },
    {
      "cell_type": "code",
      "metadata": {
        "id": "xslWfKNQOgOg",
        "colab_type": "code",
        "colab": {
          "base_uri": "https://localhost:8080/",
          "height": 34
        },
        "outputId": "1ae8d29f-72b1-4280-efd8-198b6b881eff"
      },
      "source": [
        "os.listdir()"
      ],
      "execution_count": 32,
      "outputs": [
        {
          "output_type": "execute_result",
          "data": {
            "text/plain": [
              "['.config', 'gdrive', 'sample_data']"
            ]
          },
          "metadata": {
            "tags": []
          },
          "execution_count": 32
        }
      ]
    },
    {
      "cell_type": "code",
      "metadata": {
        "id": "I8b2B20yPgC3",
        "colab_type": "code",
        "colab": {}
      },
      "source": [
        "import pandas as pd\n",
        "file_cropped = pd.read_csv('../../' + path + '/' + 'changed.csv')"
      ],
      "execution_count": 7,
      "outputs": []
    },
    {
      "cell_type": "code",
      "metadata": {
        "id": "kbunZ2jPOUkS",
        "colab_type": "code",
        "colab": {}
      },
      "source": [
        "def mp3_to_wav(_file):\n",
        "  # files                                                                         \n",
        "  src = clips_path[9:] + '/' + _file\n",
        "  dst = path[9:] + '/wav_train/' + _file[:-4]\n",
        "  # print(os.listdir())\n",
        "  # print(src)\n",
        "\n",
        "  # convert wav to mp3                                                            \n",
        "  sound = AudioSegment.from_mp3(src)\n",
        "  sound.export(dst + '.wav', format=\"wav\")"
      ],
      "execution_count": 29,
      "outputs": []
    },
    {
      "cell_type": "code",
      "metadata": {
        "id": "ANCrJP20gjXl",
        "colab_type": "code",
        "colab": {
          "base_uri": "https://localhost:8080/",
          "height": 35
        },
        "outputId": "fa7487d1-251c-400e-c50b-ada6ec76db2d"
      },
      "source": [
        "path[9:] + '/clips/' + 'common_voice_it_19612727.mp3'"
      ],
      "execution_count": 24,
      "outputs": [
        {
          "output_type": "execute_result",
          "data": {
            "application/vnd.google.colaboratory.intrinsic+json": {
              "type": "string"
            },
            "text/plain": [
              "'gdrive/My Drive/Portfolio/references_for_portfolio/WORK/##/Common_Voice/extracted/clips/common_voice_it_19612727.mp3'"
            ]
          },
          "metadata": {
            "tags": []
          },
          "execution_count": 24
        }
      ]
    },
    {
      "cell_type": "code",
      "metadata": {
        "id": "dabM0q5teaxB",
        "colab_type": "code",
        "colab": {
          "base_uri": "https://localhost:8080/",
          "height": 35
        },
        "outputId": "84ccd687-728e-497b-f30f-b45873b39d13"
      },
      "source": [
        "file_cropped['path'][32350]"
      ],
      "execution_count": 18,
      "outputs": [
        {
          "output_type": "execute_result",
          "data": {
            "application/vnd.google.colaboratory.intrinsic+json": {
              "type": "string"
            },
            "text/plain": [
              "'common_voice_it_19612727.mp3'"
            ]
          },
          "metadata": {
            "tags": []
          },
          "execution_count": 18
        }
      ]
    },
    {
      "cell_type": "code",
      "metadata": {
        "id": "uv63fUWW25BP",
        "colab_type": "code",
        "colab": {}
      },
      "source": [
        "for _f in file_cropped['path'][32395:]:\n",
        "  mp3_to_wav(_f)"
      ],
      "execution_count": 30,
      "outputs": []
    },
    {
      "cell_type": "code",
      "metadata": {
        "id": "UsH88LnacYM7",
        "colab_type": "code",
        "colab": {}
      },
      "source": [
        "AudioSegment.from_mp3(src)"
      ],
      "execution_count": null,
      "outputs": []
    },
    {
      "cell_type": "code",
      "metadata": {
        "id": "IC327335Py5U",
        "colab_type": "code",
        "colab": {
          "base_uri": "https://localhost:8080/",
          "height": 34
        },
        "outputId": "a41d53e1-a37b-430e-f636-941a352a6bbe"
      },
      "source": [
        "!ls gdrive/My\\ Drive/Portfolio/references_for_portfolio/WORK/##/Common_Voice/extracted/wav_train | wc -l"
      ],
      "execution_count": 28,
      "outputs": [
        {
          "output_type": "stream",
          "text": [
            "32395\n"
          ],
          "name": "stdout"
        }
      ]
    },
    {
      "cell_type": "code",
      "metadata": {
        "id": "fL2OlSfpPb-D",
        "colab_type": "code",
        "colab": {
          "base_uri": "https://localhost:8080/",
          "height": 51
        },
        "outputId": "a51c9e6e-0b1c-4442-90e1-7f7eaec8acf2"
      },
      "source": [
        "!ls gdrive/My\\ Drive/Portfolio/references_for_portfolio/WORK/##/Common_Voice/extracted/wav_train | wc -l"
      ],
      "execution_count": 12,
      "outputs": [
        {
          "output_type": "stream",
          "text": [
            "ls: cannot open directory 'gdrive/My Drive/Portfolio/references_for_portfolio/WORK/##/Common_Voice/extracted/wav_train': Input/output error\n",
            "0\n"
          ],
          "name": "stdout"
        }
      ]
    },
    {
      "cell_type": "code",
      "metadata": {
        "id": "BrsXlzqH3mpK",
        "colab_type": "code",
        "colab": {
          "base_uri": "https://localhost:8080/",
          "height": 102
        },
        "outputId": "d90dfb55-3ef9-41c4-fc4b-b896ec0323dc"
      },
      "source": [
        "len(os.listdir(path + '/wav_train'))"
      ],
      "execution_count": null,
      "outputs": [
        {
          "output_type": "execute_result",
          "data": {
            "text/plain": [
              "['common_voice_it_20045040.wav',\n",
              " 'common_voice_it_17544185.wav',\n",
              " 'common_voice_it_20042813.wav',\n",
              " 'common_voice_it_20001185.wav',\n",
              " 'common_voice_it_19997999.wav']"
            ]
          },
          "metadata": {
            "tags": []
          },
          "execution_count": 35
        }
      ]
    },
    {
      "cell_type": "code",
      "metadata": {
        "id": "-Qmzz2Q7Nt7k",
        "colab_type": "code",
        "colab": {}
      },
      "source": [
        "os.remove(path + '/wav_train/' + 'common_voice_it_20045040')"
      ],
      "execution_count": null,
      "outputs": []
    },
    {
      "cell_type": "code",
      "metadata": {
        "id": "FCOYbBCNP-CI",
        "colab_type": "code",
        "colab": {
          "base_uri": "https://localhost:8080/",
          "height": 34
        },
        "outputId": "86420e5f-ddc5-49f1-ac2d-8b9fde61ef62"
      },
      "source": [
        "file_cropped.shape"
      ],
      "execution_count": 7,
      "outputs": [
        {
          "output_type": "execute_result",
          "data": {
            "text/plain": [
              "(55405, 12)"
            ]
          },
          "metadata": {
            "tags": []
          },
          "execution_count": 7
        }
      ]
    },
    {
      "cell_type": "code",
      "metadata": {
        "id": "1_SjaF8sPNbY",
        "colab_type": "code",
        "colab": {}
      },
      "source": [
        ""
      ],
      "execution_count": null,
      "outputs": []
    }
  ]
}